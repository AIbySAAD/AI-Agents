{
 "cells": [
  {
   "cell_type": "markdown",
   "metadata": {},
   "source": [
    "Plan-and-Execute\n",
    "---"
   ]
  },
  {
   "cell_type": "markdown",
   "metadata": {},
   "source": [
    "Execution agent:"
   ]
  },
  {
   "cell_type": "code",
   "execution_count": 19,
   "metadata": {},
   "outputs": [
    {
     "data": {
      "text/plain": [
       "True"
      ]
     },
     "execution_count": 19,
     "metadata": {},
     "output_type": "execute_result"
    }
   ],
   "source": [
    "from dotenv import load_dotenv\n",
    "load_dotenv()"
   ]
  },
  {
   "cell_type": "code",
   "execution_count": 20,
   "metadata": {},
   "outputs": [],
   "source": [
    "from langchain_community.tools.tavily_search import TavilySearchResults\n",
    "\n",
    "tool = TavilySearchResults(\n",
    "    # max_results= 5\n",
    "    # search_depth = \"advanced\"\n",
    "    # include_domains = []\n",
    "    # exclude_domains = []\n",
    "    # include_answer = False\n",
    "    # include_raw_content = False\n",
    "    # include_images = False\n",
    ")"
   ]
  },
  {
   "cell_type": "code",
   "execution_count": 21,
   "metadata": {},
   "outputs": [],
   "source": [
    "tools = [TavilySearchResults(max_results=3)]\n",
    "# tool.invoke(\"What is the weather in islamabad today?\")"
   ]
  },
  {
   "cell_type": "code",
   "execution_count": 22,
   "metadata": {},
   "outputs": [
    {
     "name": "stdout",
     "output_type": "stream",
     "text": [
      "================================\u001b[1m System Message \u001b[0m================================\n",
      "\n",
      "You are a helpful assistant.\n",
      "\n",
      "=============================\u001b[1m Messages Placeholder \u001b[0m=============================\n",
      "\n",
      "\u001b[33;1m\u001b[1;3m{{messages}}\u001b[0m\n"
     ]
    },
    {
     "name": "stderr",
     "output_type": "stream",
     "text": [
      "/tmp/ipykernel_12862/2527652372.py:14: LangGraphDeprecationWarning: Parameter 'messages_modifier' in function 'create_react_agent' is deprecated as of version 0.1.9 and will be removed in version 0.2.0. Use 'state_modifier' parameter instead.\n",
      "  agent_executor = create_react_agent(llm_with_tool, tools, messages_modifier=prompt)\n"
     ]
    }
   ],
   "source": [
    "from langchain import hub\n",
    "from langchain_openai import ChatOpenAI\n",
    "\n",
    "from langgraph.prebuilt import create_react_agent\n",
    "\n",
    "# Get the prompt to use - you can modify this!\n",
    "prompt = hub.pull(\"wfh/react-agent-executor\")\n",
    "prompt.pretty_print()\n",
    "\n",
    "# Choose the LLM that will drive the agent\n",
    "llm = ChatOpenAI(model=\"gpt-4-turbo-preview\")\n",
    "llm_with_tool = llm.bind_tools(tools)\n",
    "llm_with_tool.invoke(\"What is weather today in islamabad?\")\n",
    "agent_executor = create_react_agent(llm_with_tool, tools, messages_modifier=prompt)"
   ]
  },
  {
   "cell_type": "code",
   "execution_count": 23,
   "metadata": {},
   "outputs": [
    {
     "data": {
      "text/plain": [
       "{'messages': [HumanMessage(content='who is the winnner of fifa?', id='447c9964-1ae3-4b44-b694-8aefa554fbcf'),\n",
       "  AIMessage(content='', additional_kwargs={'tool_calls': [{'id': 'call_dlBzDd683h3Dr8FC7ULU9Nl2', 'function': {'arguments': '{\"query\":\"FIFA World Cup 2022 winner\"}', 'name': 'tavily_search_results_json'}, 'type': 'function'}]}, response_metadata={'token_usage': {'completion_tokens': 25, 'prompt_tokens': 97, 'total_tokens': 122}, 'model_name': 'gpt-4-0125-preview', 'system_fingerprint': None, 'finish_reason': 'tool_calls', 'logprobs': None}, id='run-f7198062-4c0b-4e3c-825f-ffe47047427b-0', tool_calls=[{'name': 'tavily_search_results_json', 'args': {'query': 'FIFA World Cup 2022 winner'}, 'id': 'call_dlBzDd683h3Dr8FC7ULU9Nl2', 'type': 'tool_call'}], usage_metadata={'input_tokens': 97, 'output_tokens': 25, 'total_tokens': 122}),\n",
       "  ToolMessage(content='[{\"url\": \"https://www.npr.org/2022/12/18/1143933269/world-cup-final-argentina-france-messi-mbappe\", \"content\": \"Catherine Ivill/Getty Images\\\\nhide caption\\\\nLionel Messi of Argentina scores the team\\'s first goal from the penalty spot during the FIFA World Cup Qatar 2022 Final match between Argentina and France at Lusail Stadium on December 18, 2022 in Lusail City, Qatar.\\\\n Russell Lewis\\\\nLionel Messi of Argentina scores the team\\'s first goal from the penalty spot during the FIFA World Cup Qatar 2022 Final match between Argentina and France at Lusail Stadium on December 18, 2022 in Lusail City, Qatar.\\\\n Catherine Ivill/Getty Images\\\\nhide caption\\\\nKylian Mbappe of France celebrates after scoring the team\\'s second goal during the FIFA World Cup Qatar 2022 Final match between Argentina and France at Lusail Stadium on December 18, 2022 in Lusail City, Qatar.\\\\n Franck Fife/AFP via Getty Images\\\\nhide caption\\\\nFrance\\'s forward #10 Kylian Mbappe and Argentina\\'s midfielder #24 Enzo Fernandez fight for the ball during the Qatar 2022 World Cup football final match between Argentina and France on December 18, 2022.\\\\n 2-2.\\\\nKylian Mbappe of France celebrates after scoring the team\\'s second goal during the FIFA World Cup Qatar 2022 Final match between Argentina and France at Lusail Stadium on December 18, 2022 in Lusail City, Qatar.\\\\n\"}, {\"url\": \"https://apnews.com/article/lionel-messi-argentina-win-world-cup-final-against-france-e13fc1886725a0fe4f9e053e16a061bc\", \"content\": \"Mbapp\\\\u00e9, on the other hand, was anonymous until bursting into life by scoring two goals in a 97-second span \\\\u2014 one an 80th-minute penalty, the other a volley from just inside the area after a quick exchange of passes \\\\u2014 to take the game to extra time at 2-2.\\\\nMessi still had plenty of energy and he was on hand to tap in his second goal in the 108th minute, with a France defender clearing the ball just after it had crossed the line. Messi wins World Cup, Argentina beats France on penalties\\\\nArgentina\\\\u2019s Lionel Messi lifts the trophy after winning the World Cup final soccer match between Argentina and France at the Lusail Stadium in Lusail, Qatar, Sunday, Dec. 18, 2022. France\\\\u2019s Kylian Mbappe runs past Argentina\\\\u2019s Lionel Messi as he retrieves the ball after scoring his side\\\\u2019s first goal during the World Cup final soccer match between Argentina and France at the Lusail Stadium in Lusail, Qatar, Sunday, Dec. 18, 2022. France\\\\u2019s Kylian Mbappe runs past Argentina\\\\u2019s Lionel Messi as he retrieves the ball after scoring his side\\\\u2019s first goal during the World Cup final soccer match between Argentina and France at the Lusail Stadium in Lusail, Qatar, Sunday, Dec. 18, 2022. France\\\\u2019s Kylian Mbappe runs past Argentina\\\\u2019s Lionel Messi as he retrieves the ball after scoring his side\\\\u2019s first goal during the World Cup final soccer match between Argentina and France at the Lusail Stadium in Lusail, Qatar, Sunday, Dec. 18, 2022.\"}, {\"url\": \"https://www.fifa.com/watch/4ilYIKbO8iu4gTr3luSggD?s_cid=(co_)(cc_)&c=(c_FIFAPlus)(sc_highlights)(ssc_)(cc_)&pid=(p_go-box)(ch_)(t_)\", \"content\": \"Watch the highlights from the match between Argentina and France played at Lusail Stadium, Lusail on Sunday, 18 December 2022.\"}]', name='tavily_search_results_json', id='8b1ada14-0e34-4afa-86c7-abb0ff8e724c', tool_call_id='call_dlBzDd683h3Dr8FC7ULU9Nl2'),\n",
       "  AIMessage(content='The winner of the FIFA World Cup 2022 was Argentina. They beat France in the final match.', response_metadata={'token_usage': {'completion_tokens': 22, 'prompt_tokens': 1001, 'total_tokens': 1023}, 'model_name': 'gpt-4-0125-preview', 'system_fingerprint': None, 'finish_reason': 'stop', 'logprobs': None}, id='run-879094c4-5d7b-49f4-9463-92820355f52f-0', usage_metadata={'input_tokens': 1001, 'output_tokens': 22, 'total_tokens': 1023})]}"
      ]
     },
     "execution_count": 23,
     "metadata": {},
     "output_type": "execute_result"
    }
   ],
   "source": [
    "agent_executor.invoke({\"messages\": [(\"user\", \"who is the winnner of fifa?\")]})"
   ]
  },
  {
   "cell_type": "markdown",
   "metadata": {},
   "source": [
    "Define state:"
   ]
  },
  {
   "cell_type": "code",
   "execution_count": 24,
   "metadata": {},
   "outputs": [],
   "source": [
    "import operator\n",
    "from typing import Annotated, List, Tuple, TypedDict\n",
    "\n",
    "\n",
    "class PlanExecute(TypedDict):\n",
    "    input: str\n",
    "    plan: List[str]\n",
    "    past_steps: List[Tuple]\n",
    "    response: str"
   ]
  },
  {
   "cell_type": "markdown",
   "metadata": {},
   "source": [
    "Planning steps:"
   ]
  },
  {
   "cell_type": "code",
   "execution_count": 25,
   "metadata": {},
   "outputs": [],
   "source": [
    "from langchain_core.pydantic_v1 import BaseModel, Field\n",
    "class Plan(BaseModel):\n",
    "    \"\"\"Plan to follow in future\"\"\"\n",
    "\n",
    "    steps: List[str] = Field(\n",
    "        description=\"different steps to follow, should be in sorted order\"\n",
    "    )"
   ]
  },
  {
   "cell_type": "code",
   "execution_count": 26,
   "metadata": {},
   "outputs": [],
   "source": [
    "from langchain_core.prompts import ChatPromptTemplate\n",
    "\n",
    "planner_prompt = ChatPromptTemplate.from_messages(\n",
    "    [\n",
    "        (\n",
    "            \"system\",\n",
    "            \"\"\"For the given objective, come up with a simple step by step plan. \\\n",
    "This plan should involve individual tasks, that if executed correctly will yield the correct answer. Do not add any superfluous steps. \\\n",
    "The result of the final step should be the final answer. Make sure that each step has all the information needed - do not skip steps.\"\"\",\n",
    "        ),\n",
    "        (\"placeholder\", \"{messages}\"),\n",
    "    ]\n",
    ")\n",
    "planner = planner_prompt | ChatOpenAI(\n",
    "    model=\"gpt-4o\", temperature=0\n",
    ").with_structured_output(Plan)"
   ]
  },
  {
   "cell_type": "code",
   "execution_count": 27,
   "metadata": {},
   "outputs": [
    {
     "data": {
      "text/plain": [
       "Plan(steps=['Identify the current winner of the Australia Open.', 'Find the hometown of the identified winner.'])"
      ]
     },
     "execution_count": 27,
     "metadata": {},
     "output_type": "execute_result"
    }
   ],
   "source": [
    "planner.invoke(\n",
    "    {\n",
    "        \"messages\": [\n",
    "            (\"user\", \"what is the hometown of the current Australia open winner?\")\n",
    "        ]\n",
    "    }\n",
    ")"
   ]
  },
  {
   "cell_type": "markdown",
   "metadata": {},
   "source": [
    "Re-plan step"
   ]
  },
  {
   "cell_type": "code",
   "execution_count": 33,
   "metadata": {},
   "outputs": [],
   "source": [
    "from typing import Union\n",
    "class Response(BaseModel):\n",
    "    \"\"\" Response to user \"\"\"\n",
    "    response:str\n",
    "\n",
    "class Act(BaseModel):\n",
    "    \"\"\"Action to perform.\"\"\"\n",
    "\n",
    "    action: Union[Response, Plan] = Field(\n",
    "        description=\"Action to perform. If you want to respond to user, use Response. \"\n",
    "        \"If you need to further use tools to get the answer, use Plan.\"\n",
    "    )\n",
    "\n",
    "replanner_prompt = ChatPromptTemplate.from_template(\n",
    "    \"\"\"For the given objective, come up with a simple step by step plan. \\\n",
    "This plan should involve individual tasks, that if executed correctly will yield the correct answer. Do not add any superfluous steps. \\\n",
    "The result of the final step should be the final answer. Make sure that each step has all the information needed - do not skip steps.\n",
    "\n",
    "Your objective was this:\n",
    "{input}\n",
    "\n",
    "Your original plan was this:\n",
    "{plan}\n",
    "\n",
    "You have currently done the follow steps:\n",
    "{past_steps}\n",
    "\n",
    "Update your plan accordingly. If no more steps are needed and you can return to the user, then respond with that. Otherwise, fill out the plan. Only add steps to the plan that still NEED to be done. Do not return previously done steps as part of the plan.\"\"\"\n",
    ")\n",
    "replanner = replanner_prompt | ChatOpenAI(\n",
    "    model=\"gpt-4o\", temperature=0\n",
    ").with_structured_output(Act)"
   ]
  },
  {
   "cell_type": "markdown",
   "metadata": {},
   "source": [
    "Create graph:"
   ]
  },
  {
   "cell_type": "code",
   "execution_count": 34,
   "metadata": {},
   "outputs": [],
   "source": [
    "from typing import Literal\n",
    "\n",
    "\n",
    "async def execute_step(state: PlanExecute):\n",
    "    plan = state[\"plan\"]\n",
    "    plan_str = \"\\n\".join(f\"{i+1}. {step}\" for i, step in enumerate(plan))\n",
    "    task = plan[0]\n",
    "    task_formatted = f\"\"\"For the following plan:\n",
    "{plan_str}\\n\\nYou are tasked with executing step {1}, {task}.\"\"\"\n",
    "    agent_response = await agent_executor.ainvoke(\n",
    "        {\"messages\": [(\"user\", task_formatted)]}\n",
    "    )\n",
    "    return {\n",
    "        \"past_steps\": (task, agent_response[\"messages\"][-1].content),\n",
    "    }\n",
    "\n",
    "\n",
    "async def plan_step(state: PlanExecute):\n",
    "    plan = await planner.ainvoke({\"messages\": [(\"user\", state[\"input\"])]})\n",
    "    return {\"plan\": plan.steps}\n",
    "\n",
    "\n",
    "async def replan_step(state: PlanExecute):\n",
    "    output = await replanner.ainvoke(state)\n",
    "    if isinstance(output.action, Response):\n",
    "        return {\"response\": output.action.response}\n",
    "    else:\n",
    "        return {\"plan\": output.action.steps}\n",
    "\n",
    "\n",
    "def should_end(state: PlanExecute) -> Literal[\"agent\", \"__end__\"]:\n",
    "    if \"response\" in state and state[\"response\"]:\n",
    "        return \"__end__\"\n",
    "    else:\n",
    "        return \"agent\""
   ]
  },
  {
   "cell_type": "code",
   "execution_count": 35,
   "metadata": {},
   "outputs": [],
   "source": [
    "from langgraph.graph import StateGraph, START\n",
    "\n",
    "workflow = StateGraph(PlanExecute)\n",
    "\n",
    "workflow.add_node(\"planner\", plan_step)\n",
    "\n",
    "workflow.add_node(\"agent\", execute_step)\n",
    "\n",
    "workflow.add_node(\"replan\", replan_step)\n",
    "\n",
    "workflow.add_edge(START, \"planner\")\n",
    "workflow.add_edge(\"planner\", \"agent\")\n",
    "workflow.add_edge(\"agent\", \"replan\")\n",
    "\n",
    "workflow.add_conditional_edges(\n",
    "    \"replan\",\n",
    "    should_end,\n",
    ")\n",
    "app = workflow.compile()"
   ]
  },
  {
   "cell_type": "code",
   "execution_count": 36,
   "metadata": {},
   "outputs": [
    {
     "data": {
      "image/jpeg": "[encoded data removed]",
      "text/plain": [
       "<IPython.core.display.Image object>"
      ]
     },
     "metadata": {},
     "output_type": "display_data"
    }
   ],
   "source": [
    "from IPython.display import Image, display\n",
    "\n",
    "display(Image(app.get_graph(xray=True).draw_mermaid_png()))"
   ]
  },
  {
   "cell_type": "code",
   "execution_count": 38,
   "metadata": {},
   "outputs": [
    {
     "name": "stdout",
     "output_type": "stream",
     "text": [
      "{'plan': [\"Identify the context in which 'Imran Khan' is being referred to (e.g., cricketer, politician).\", 'Gather relevant information about Imran Khan based on the identified context.', 'Summarize the gathered information to provide a concise answer.']}\n",
      "{'past_steps': (\"Identify the context in which 'Imran Khan' is being referred to (e.g., cricketer, politician).\", \"Based on the search results, Imran Khan is referred to in the context of being a politician, specifically a former Prime Minister of Pakistan. The articles discuss his political activities, including his arrest and charges of corruption, his party's (Pakistan Tehreek-e-Insaf) stance, and various aspects of his governance, such as foreign policy, economic ties, and anti-corruption efforts. Additionally, there is mention of Khan's past as a cricketer, highlighting his transition from sports to politics, but the primary context in the recent news and discussions is his role in politics.\")}\n",
      "{'plan': ['Gather relevant information about Imran Khan based on the identified context of him being a politician.', 'Summarize the gathered information to provide a concise answer.']}\n",
      "{'past_steps': ('Gather relevant information about Imran Khan based on the identified context of him being a politician.', \"Imran Khan, a former cricket icon turned politician, once hailed as Pakistan's hope for a clean and nationalist government, has undergone a turbulent political career marked by significant highs and lows. Born in 1952 in Lahore to an affluent family, Khan received a prestigious education, culminating in a degree in philosophy, politics, and economics from Oxford University. His transition from sports to politics was marked by his promise to combat corruption and usher in a new era for Pakistan, reflecting his populist and nationalist inclinations.\\n\\nKhan's political journey includes notable achievements and controversies. He received praise for his handling of the coronavirus pandemic, swiftly closing borders and imposing lockdowns to curb the disease's spread. His tenure witnessed improved economic ties with Gulf states, including a significant energy deal with Qatar expected to benefit Pakistan by US$3 billion over ten years, and efforts to mediate between Iran and Saudi Arabia regarding the conflict in Yemen. Khan has also been vocal about the Kashmir issue, insisting on no talks with India until autonomy is restored in Indian-held Kashmir.\\n\\nHowever, Khan's political career has been marred by legal troubles and controversies. In May 2021, his arrest led to widespread protests and was declared illegal by the Supreme Court, though he was later released. His arrest in August 2023, for misusing his premiership to buy and sell state gifts worth over 140 million rupees, marked a significant downturn, resulting in a three-year prison sentence.\\n\\nKhan's political platform combines Islamic values, liberal economics, anti-corruption laws, an independent judiciary, police system overhaul, and an anti-militant vision for a democratic Pakistan. He has also initiated significant environmental efforts, including the re-forestation of Pakistan with the ambitious Plant for Pakistan project aiming to plant over 10 billion trees.\\n\\nDespite facing legal challenges and political opposition, Khan's legacy as a politician remains complex, blending his aspirations for Pakistan with the realities of its political landscape.\")}\n",
      "{'response': \"Imran Khan, a former cricket icon turned politician, once hailed as Pakistan's hope for a clean and nationalist government, has undergone a turbulent political career marked by significant highs and lows. Born in 1952 in Lahore to an affluent family, Khan received a prestigious education, culminating in a degree in philosophy, politics, and economics from Oxford University. His transition from sports to politics was marked by his promise to combat corruption and usher in a new era for Pakistan, reflecting his populist and nationalist inclinations.\\n\\nKhan's political journey includes notable achievements and controversies. He received praise for his handling of the coronavirus pandemic, swiftly closing borders and imposing lockdowns to curb the disease's spread. His tenure witnessed improved economic ties with Gulf states, including a significant energy deal with Qatar expected to benefit Pakistan by US$3 billion over ten years, and efforts to mediate between Iran and Saudi Arabia regarding the conflict in Yemen. Khan has also been vocal about the Kashmir issue, insisting on no talks with India until autonomy is restored in Indian-held Kashmir.\\n\\nHowever, Khan's political career has been marred by legal troubles and controversies. In May 2021, his arrest led to widespread protests and was declared illegal by the Supreme Court, though he was later released. His arrest in August 2023, for misusing his premiership to buy and sell state gifts worth over 140 million rupees, marked a significant downturn, resulting in a three-year prison sentence.\\n\\nKhan's political platform combines Islamic values, liberal economics, anti-corruption laws, an independent judiciary, police system overhaul, and an anti-militant vision for a democratic Pakistan. He has also initiated significant environmental efforts, including the re-forestation of Pakistan with the ambitious Plant for Pakistan project aiming to plant over 10 billion trees.\\n\\nDespite facing legal challenges and political opposition, Khan's legacy as a politician remains complex, blending his aspirations for Pakistan with the realities of its political landscape.\"}\n"
     ]
    }
   ],
   "source": [
    "config = {\"recursion_limit\": 50}\n",
    "inputs = {\"input\": \"imran khan?\"}\n",
    "async for event in app.astream(inputs, config=config):\n",
    "    for k, v in event.items():\n",
    "        if k != \"__end__\":\n",
    "            print(v)"
   ]
  }
 ],
 "metadata": {
  "kernelspec": {
   "display_name": "codeenv",
   "language": "python",
   "name": "python3"
  },
  "language_info": {
   "codemirror_mode": {
    "name": "ipython",
    "version": 3
   },
   "file_extension": ".py",
   "mimetype": "text/x-python",
   "name": "python",
   "nbconvert_exporter": "python",
   "pygments_lexer": "ipython3",
   "version": "3.11.9"
  }
 },
 "nbformat": 4,
 "nbformat_minor": 2
}
